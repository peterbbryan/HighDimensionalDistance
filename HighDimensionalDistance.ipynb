{
 "cells": [
  {
   "cell_type": "markdown",
   "metadata": {},
   "source": [
    "# Point distributions in n-dimensional spaces, the unusual behavior of distance metics as dimensionality increases"
   ]
  },
  {
   "cell_type": "markdown",
   "metadata": {},
   "source": [
    "Demonstration of diminished distance ratio between nearest and furthest points as dimensionality increases.\n",
    "> In recent years, the effect of the curse of high dimensionality has been studied in great detail on several problems such as clustering, nearest neighbor search, and indexing. In high dimensional space the data becomes sparse, and traditional indexing and algorithmic techniques fail from a effciency and/or effectiveness perspective. Recent research results show that in high dimensional space, the concept of proximity, distance or nearest neighbor may not even be qualitatively meaningful. In this paper, we view the dimensionality curse from the point of view of the distance metrics which are used to measure the similarity between objects. We specifically examine the behavior of the commonly used L k norm and show that the problem of meaningfulness in high dimensionality is sensitive to the value of k. For example, this means that the Manhattan distance metric L(1 norm) is consistently more preferable than the Euclidean distance metric L(2 norm) for high dimensional data mining applications. Using the intuition derived from our analysis, we introduce and examine a natural extension of the L k norm to fractional distance metrics. We show that the fractional distance metric provides more meaningful results both from the theoretical and empirical perspective. The results show that fractional distance metrics can significantly improve the effectiveness of standard clustering algorithms such as the k-means algorithm.\n",
    "\n",
    "Aggarwal, Charu C., Alexander Hinneburg, and Daniel A. Keim. \"On the surprising behavior of distance metrics in high dimensional space.\" In International conference on database theory, pp. 420-434. Springer, Berlin, Heidelberg, 2001."
   ]
  },
  {
   "cell_type": "markdown",
   "metadata": {},
   "source": [
    "## Imports"
   ]
  },
  {
   "cell_type": "code",
   "execution_count": 7,
   "metadata": {},
   "outputs": [],
   "source": [
    "import numpy as np\n",
    "import matplotlib.pyplot as plt\n",
    "import seaborn as sns\n",
    "\n",
    "from typing import List"
   ]
  },
  {
   "cell_type": "markdown",
   "metadata": {},
   "source": [
    "## Distance calculations"
   ]
  },
  {
   "cell_type": "code",
   "execution_count": 8,
   "metadata": {},
   "outputs": [],
   "source": [
    "def l_sub_p_norm(p1: np.ndarray, p2: np.ndarray, norm_p: int = 2) -> float:\n",
    "    \"\"\"\n",
    "    L1 norm corresponds with Manhattan distance (the distance along each axis summed independently),\n",
    "    L2 corresponds to the common Euclidean distance, higher and lower order norms correspond to \n",
    "    identical calculations with different powers\n",
    "    \n",
    "    :param p1: first point (numpy array where each value corresponds to an independent dimension)\n",
    "    :param p2: second point (numpy array where each value corresponds to an independent dimension)\n",
    "    :param norm_p: the 'p' of the l sub p norm\n",
    "    \n",
    "    :returns: an l sub p distance metric in the n dimensional space\n",
    "    \"\"\"\n",
    "    \n",
    "    # make sure that the input points are of identical dimensionality\n",
    "    if p1.shape != p2.shape:\n",
    "        print('replace with warning')\n",
    "        \n",
    "    pass"
   ]
  },
  {
   "cell_type": "markdown",
   "metadata": {},
   "source": [
    "## Generate normally distributed points in n-dimensional space"
   ]
  },
  {
   "cell_type": "code",
   "execution_count": 9,
   "metadata": {},
   "outputs": [],
   "source": [
    "def point_generation(n_points: int, dimensions: List[int]) -> np.ndarray:\n",
    "    pass"
   ]
  },
  {
   "cell_type": "code",
   "execution_count": null,
   "metadata": {},
   "outputs": [],
   "source": []
  }
 ],
 "metadata": {
  "kernelspec": {
   "display_name": "Python 3",
   "language": "python",
   "name": "python3"
  },
  "language_info": {
   "codemirror_mode": {
    "name": "ipython",
    "version": 3
   },
   "file_extension": ".py",
   "mimetype": "text/x-python",
   "name": "python",
   "nbconvert_exporter": "python",
   "pygments_lexer": "ipython3",
   "version": "3.6.5"
  }
 },
 "nbformat": 4,
 "nbformat_minor": 2
}
